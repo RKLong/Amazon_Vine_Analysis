{
 "cells": [
  {
   "cell_type": "code",
   "execution_count": 1,
   "metadata": {
    "colab": {
     "base_uri": "https://localhost:8080/"
    },
    "id": "V58rxea0HqSa",
    "outputId": "781b08fb-152f-4d3d-a48d-c79e7341cfea"
   },
   "outputs": [
    {
     "name": "stdout",
     "output_type": "stream",
     "text": [
      "Get:1 http://security.ubuntu.com/ubuntu bionic-security InRelease [88.7 kB]\n",
      "Get:2 https://cloud.r-project.org/bin/linux/ubuntu bionic-cran40/ InRelease [3,626 B]\n",
      "Ign:3 https://developer.download.nvidia.com/compute/cuda/repos/ubuntu1804/x86_64  InRelease\n",
      "Get:4 http://ppa.launchpad.net/c2d4u.team/c2d4u4.0+/ubuntu bionic InRelease [15.9 kB]\n",
      "Ign:5 https://developer.download.nvidia.com/compute/machine-learning/repos/ubuntu1804/x86_64  InRelease\n",
      "Hit:6 https://developer.download.nvidia.com/compute/cuda/repos/ubuntu1804/x86_64  Release\n",
      "Hit:7 https://developer.download.nvidia.com/compute/machine-learning/repos/ubuntu1804/x86_64  Release\n",
      "Hit:8 http://archive.ubuntu.com/ubuntu bionic InRelease\n",
      "Get:9 http://archive.ubuntu.com/ubuntu bionic-updates InRelease [88.7 kB]\n",
      "Hit:10 http://ppa.launchpad.net/cran/libgit2/ubuntu bionic InRelease\n",
      "Get:11 http://security.ubuntu.com/ubuntu bionic-security/main amd64 Packages [2,294 kB]\n",
      "Hit:12 http://ppa.launchpad.net/deadsnakes/ppa/ubuntu bionic InRelease\n",
      "Get:13 http://archive.ubuntu.com/ubuntu bionic-backports InRelease [74.6 kB]\n",
      "Get:14 http://security.ubuntu.com/ubuntu bionic-security/restricted amd64 Packages [543 kB]\n",
      "Hit:15 http://ppa.launchpad.net/graphics-drivers/ppa/ubuntu bionic InRelease\n",
      "Get:16 http://security.ubuntu.com/ubuntu bionic-security/universe amd64 Packages [1,424 kB]\n",
      "Get:19 http://ppa.launchpad.net/c2d4u.team/c2d4u4.0+/ubuntu bionic/main Sources [1,792 kB]\n",
      "Get:20 http://archive.ubuntu.com/ubuntu bionic-updates/multiverse amd64 Packages [34.4 kB]\n",
      "Get:21 http://archive.ubuntu.com/ubuntu bionic-updates/restricted amd64 Packages [575 kB]\n",
      "Get:22 http://ppa.launchpad.net/c2d4u.team/c2d4u4.0+/ubuntu bionic/main amd64 Packages [917 kB]\n",
      "Get:23 http://archive.ubuntu.com/ubuntu bionic-updates/main amd64 Packages [2,730 kB]\n",
      "Get:24 http://archive.ubuntu.com/ubuntu bionic-updates/universe amd64 Packages [2,199 kB]\n",
      "Fetched 12.8 MB in 5s (2,647 kB/s)\n",
      "Reading package lists... Done\n"
     ]
    }
   ],
   "source": [
    "import os\n",
    "# Find the latest version of spark 3.0 from http://www.apache.org/dist/spark/ and enter as the spark version\n",
    "# For example:\n",
    "# spark_version = 'spark-3.0.3'\n",
    "spark_version = 'spark-3.0.3'\n",
    "os.environ['SPARK_VERSION']=spark_version\n",
    "\n",
    "# Install Spark and Java\n",
    "!apt-get update\n",
    "!apt-get install openjdk-11-jdk-headless -qq > /dev/null\n",
    "!wget -q http://www.apache.org/dist/spark/$SPARK_VERSION/$SPARK_VERSION-bin-hadoop2.7.tgz\n",
    "!tar xf $SPARK_VERSION-bin-hadoop2.7.tgz\n",
    "!pip install -q findspark\n",
    "\n",
    "# Set Environment Variables\n",
    "import os\n",
    "os.environ[\"JAVA_HOME\"] = \"/usr/lib/jvm/java-11-openjdk-amd64\"\n",
    "os.environ[\"SPARK_HOME\"] = f\"/content/{spark_version}-bin-hadoop2.7\"\n",
    "\n",
    "# Start a SparkSession\n",
    "import findspark\n",
    "findspark.init()"
   ]
  },
  {
   "cell_type": "code",
   "execution_count": 2,
   "metadata": {
    "id": "MMqDAjVS0KN9"
   },
   "outputs": [],
   "source": [
    "from pyspark.sql import SparkSession\n",
    "spark = SparkSession.builder.appName(\"M16-Amazon-Challenge\").config(\"spark.driver.extraClassPath\",\"/content/postgresql-42.2.16.jar\").getOrCreate()"
   ]
  },
  {
   "cell_type": "code",
   "execution_count": 4,
   "metadata": {
    "colab": {
     "base_uri": "https://localhost:8080/"
    },
    "id": "CtCmBhQJY-9Z",
    "outputId": "69944414-f44e-4e63-ee16-5e75af15c10f"
   },
   "outputs": [
    {
     "name": "stdout",
     "output_type": "stream",
     "text": [
      "+-----------+-----------+--------------+----------+--------------+--------------------+----------------+-----------+-------------+-----------+----+-----------------+--------------------+--------------------+-----------+\n",
      "|marketplace|customer_id|     review_id|product_id|product_parent|       product_title|product_category|star_rating|helpful_votes|total_votes|vine|verified_purchase|     review_headline|         review_body|review_date|\n",
      "+-----------+-----------+--------------+----------+--------------+--------------------+----------------+-----------+-------------+-----------+----+-----------------+--------------------+--------------------+-----------+\n",
      "|         US|   24509695|R3VR960AHLFKDV|B004HB5E0E|     488241329|Shoal Creek Compu...|       Furniture|          4|            0|          0|   N|                Y|... desk is very ...|This desk is very...| 2015-08-31|\n",
      "|         US|   34731776|R16LGVMFKIUT0G|B0042TNMMS|     205864445|Dorel Home Produc...|       Furniture|          5|            0|          0|   N|                Y|          Five Stars|          Great item| 2015-08-31|\n",
      "|         US|    1272331|R1AIMEEPYHMOE4|B0030MPBZ4|     124663823|Bathroom Vanity T...|       Furniture|          5|            1|          1|   N|                Y|          Five Stars|Perfect fit for m...| 2015-08-31|\n",
      "|         US|   45284262|R1892CCSZWZ9SR|B005G02ESA|     382367578|Sleep Master Ulti...|       Furniture|          3|            0|          0|   N|                Y|         Good enough|We use this on a ...| 2015-08-31|\n",
      "|         US|   30003523|R285P679YWVKD1|B005JS8AUA|     309497463|1 1/4\" GashGuards...|       Furniture|          3|            0|          0|   N|                N|Gash Gards for da...|The product is fi...| 2015-08-31|\n",
      "|         US|   18311821| RLB33HJBXHZHU|B00AVUQQGQ|     574537906|Serta Bonded Leat...|       Furniture|          5|            0|          0|   N|                Y|          Five Stars|Love this product...| 2015-08-31|\n",
      "|         US|   42943632|R1VGTZ94DBAD6A|B00CFY20GQ|     407473883|Prepac Shoe Stora...|       Furniture|          5|            2|          2|   N|                Y|   I love this bench|I love this bench...| 2015-08-31|\n",
      "|         US|   43157304|R168KF82ICSOHD|B00FKC48QA|     435120460|HomCom PU Leather...|       Furniture|          5|            0|          0|   N|                Y|Great storage cap...|Have had this for...| 2015-08-31|\n",
      "|         US|   51918480|R20DIYIJ0OCMOG|B00N9IAL9K|     356495985|  Folding Step Stool|       Furniture|          5|            0|          0|   N|                Y|This is the best ...|This is the best ...| 2015-08-31|\n",
      "|         US|   14522766| RD46RNVOHNZSC|B001T4XU1C|     243050228|Ace Bayou Adult V...|       Furniture|          5|            0|          0|   N|                Y|    great for price!|    my son loves it!| 2015-08-31|\n",
      "|         US|   43054112|R2JDOCETTM3AXS|B002HRFLBC|      93574483|4D Concepts Audio...|       Furniture|          5|            0|          0|   N|                Y|          Five Stars|       Great product| 2015-08-31|\n",
      "|         US|   26622950|R33YMW36IDZ6LE|B006MISZOC|     941823468|Zinus SC-SBBK-14N...|       Furniture|          5|            0|          0|   N|                Y|             perfect|bought with sleep...| 2015-08-31|\n",
      "|         US|   17988940|R30ZGGUHZ04C1S|B008BMGABC|     460567746|Poundex Marble Di...|       Furniture|          5|            1|          1|   N|                Y|   Very satisfied!!!|Delivery was on t...| 2015-08-31|\n",
      "|         US|   18444952| RS2EZU76IK2BT|B00CO2VH5Y|     829613894|Safavieh Lyndhurs...|       Furniture|          5|            0|          0|   N|                Y|soft and great fo...|Exactly as pictur...| 2015-08-31|\n",
      "|         US|   16937084|R1GJC1BP028XO9|B00LI4RJQ0|     816478187|Sauder Boone Moun...|       Furniture|          5|            2|          3|   N|                Y|        Great table.|Beautiful table. ...| 2015-08-31|\n",
      "|         US|   23665632|R2VKJPGXXEK5GP|B0046EC1D0|     358594389|Winsome Wood Brea...|       Furniture|          1|            0|          0|   N|                Y|Not what I expect...|I have cleaned up...| 2015-08-31|\n",
      "|         US|    4110125|R17KS83G3KLT97|B00DQQPL36|     312571325|HODEDAH IMPORT Me...|       Furniture|          3|            0|          0|   N|                Y|         Three Stars|First one came in...| 2015-08-31|\n",
      "|         US|     107621|R3PQL8SR4NEHWL|B003X7RWB2|     402665054|Flash Furniture H...|       Furniture|          4|            0|          0|   N|                Y|          Four Stars|Good deal to get ...| 2015-08-31|\n",
      "|         US|    2415090|R2F5WW7WNO5RRG|B001TJYPJ8|     854989315|Sleep Revolution ...|       Furniture|          5|            0|          0|   N|                Y|          Five Stars|Comfortable and e...| 2015-08-31|\n",
      "|         US|   48285966|R3UDJKVWQCFIC9|B000TMHX9A|     814079288|Flash Furniture V...|       Furniture|          5|            0|          0|   N|                Y|Very comfortable....|As advertised. Ve...| 2015-08-31|\n",
      "+-----------+-----------+--------------+----------+--------------+--------------------+----------------+-----------+-------------+-----------+----+-----------------+--------------------+--------------------+-----------+\n",
      "only showing top 20 rows\n",
      "\n"
     ]
    }
   ],
   "source": [
    "from pyspark import SparkFiles\n",
    "url = \"https://s3.amazonaws.com/amazon-reviews-pds/tsv/amazon_reviews_us_Furniture_v1_00.tsv.gz\"\n",
    "spark.sparkContext.addFile(url)\n",
    "df = spark.read.option(\"encoding\", \"UTF-8\").csv(SparkFiles.get(\"\"), sep=\"\\t\", header=True, inferSchema=True)\n",
    "df.show(20)"
   ]
  },
  {
   "cell_type": "code",
   "execution_count": 5,
   "metadata": {
    "colab": {
     "base_uri": "https://localhost:8080/"
    },
    "id": "C8REmY1aY-9u",
    "outputId": "70260d44-0476-4de4-dc10-2cf0ae61bcdf"
   },
   "outputs": [
    {
     "name": "stdout",
     "output_type": "stream",
     "text": [
      "+--------------+-----------+-------------+-----------+----+-----------------+\n",
      "|     review_id|star_rating|helpful_votes|total_votes|vine|verified_purchase|\n",
      "+--------------+-----------+-------------+-----------+----+-----------------+\n",
      "|R3VR960AHLFKDV|          4|            0|          0|   N|                Y|\n",
      "|R16LGVMFKIUT0G|          5|            0|          0|   N|                Y|\n",
      "|R1AIMEEPYHMOE4|          5|            1|          1|   N|                Y|\n",
      "|R1892CCSZWZ9SR|          3|            0|          0|   N|                Y|\n",
      "|R285P679YWVKD1|          3|            0|          0|   N|                N|\n",
      "| RLB33HJBXHZHU|          5|            0|          0|   N|                Y|\n",
      "|R1VGTZ94DBAD6A|          5|            2|          2|   N|                Y|\n",
      "|R168KF82ICSOHD|          5|            0|          0|   N|                Y|\n",
      "|R20DIYIJ0OCMOG|          5|            0|          0|   N|                Y|\n",
      "| RD46RNVOHNZSC|          5|            0|          0|   N|                Y|\n",
      "|R2JDOCETTM3AXS|          5|            0|          0|   N|                Y|\n",
      "|R33YMW36IDZ6LE|          5|            0|          0|   N|                Y|\n",
      "|R30ZGGUHZ04C1S|          5|            1|          1|   N|                Y|\n",
      "| RS2EZU76IK2BT|          5|            0|          0|   N|                Y|\n",
      "|R1GJC1BP028XO9|          5|            2|          3|   N|                Y|\n",
      "|R2VKJPGXXEK5GP|          1|            0|          0|   N|                Y|\n",
      "|R17KS83G3KLT97|          3|            0|          0|   N|                Y|\n",
      "|R3PQL8SR4NEHWL|          4|            0|          0|   N|                Y|\n",
      "|R2F5WW7WNO5RRG|          5|            0|          0|   N|                Y|\n",
      "|R3UDJKVWQCFIC9|          5|            0|          0|   N|                Y|\n",
      "+--------------+-----------+-------------+-----------+----+-----------------+\n",
      "only showing top 20 rows\n",
      "\n"
     ]
    }
   ],
   "source": [
    "# Create the vine_table DataFrame\n",
    "vine_df = df.select([\"review_id\", \"star_rating\", \"helpful_votes\", \"total_votes\", \"vine\", \"verified_purchase\"])\n",
    "vine_df.show()"
   ]
  },
  {
   "cell_type": "code",
   "execution_count": 6,
   "metadata": {
    "colab": {
     "base_uri": "https://localhost:8080/"
    },
    "id": "B0TESUDRY-90",
    "outputId": "7513a2c6-558c-4911-f932-df5141f1ac2f"
   },
   "outputs": [
    {
     "data": {
      "text/plain": [
       "[('review_id', 'string'),\n",
       " ('star_rating', 'int'),\n",
       " ('helpful_votes', 'int'),\n",
       " ('total_votes', 'int'),\n",
       " ('vine', 'string'),\n",
       " ('verified_purchase', 'string')]"
      ]
     },
     "execution_count": 6,
     "metadata": {},
     "output_type": "execute_result"
    }
   ],
   "source": [
    "# Convert star_rating column to integer\n",
    "from pyspark.sql.types import IntegerType\n",
    "vine_df = vine_df.withColumn(\"star_rating\",vine_df.star_rating.cast(IntegerType()))\n",
    "vine_df.dtypes"
   ]
  },
  {
   "cell_type": "code",
   "execution_count": 7,
   "metadata": {
    "colab": {
     "base_uri": "https://localhost:8080/"
    },
    "id": "4FwXA6UvY-96",
    "outputId": "e56b3e45-61ce-4c3e-9c9e-1731d876f8da"
   },
   "outputs": [
    {
     "name": "stdout",
     "output_type": "stream",
     "text": [
      "+--------------+-----------+-------------+-----------+----+-----------------+\n",
      "|     review_id|star_rating|helpful_votes|total_votes|vine|verified_purchase|\n",
      "+--------------+-----------+-------------+-----------+----+-----------------+\n",
      "| RL8D0KJ0J9L0O|          5|          152|        165|   N|                Y|\n",
      "|R1BEINAIQFBRJC|          5|           21|         23|   N|                Y|\n",
      "|R2L59KIJH302P9|          4|           26|         26|   N|                Y|\n",
      "| RR99CPG695T0I|          5|          215|        248|   N|                N|\n",
      "|R1XQNKKUPCMWVO|          5|           43|         44|   N|                Y|\n",
      "|R3JUXVCT1NSK2A|          3|           25|         26|   N|                Y|\n",
      "|R3GNSIFV1J2Y2B|          1|           15|         60|   N|                N|\n",
      "| RTCRZARYY4LXX|          5|           52|         54|   N|                Y|\n",
      "|R3OFB4P7Y8WR27|          1|           15|         26|   N|                Y|\n",
      "|R3MTAYGQM25N63|          4|           58|         59|   N|                Y|\n",
      "| RJNDSWES5ISZ7|          5|           78|         79|   N|                Y|\n",
      "|R15R7STOZZP2A4|          5|           33|         34|   N|                Y|\n",
      "|R33V5WV529NK8E|          4|           30|         32|   N|                Y|\n",
      "| RIR9ZI3L80P7P|          3|           72|         76|   N|                N|\n",
      "|R10P6SDC1D6C3I|          5|           23|         25|   N|                Y|\n",
      "|R110G9UVLI2MLS|          5|           52|         55|   N|                Y|\n",
      "|R1I4LN1WR3YVJX|          1|           31|         40|   N|                Y|\n",
      "|R1B76MPCS05UX9|          5|           19|         21|   N|                Y|\n",
      "|R17PJIKAZ3U6BG|          5|           21|         21|   N|                Y|\n",
      "|R2T3TLCX42RWLY|          5|           46|         48|   N|                Y|\n",
      "+--------------+-----------+-------------+-----------+----+-----------------+\n",
      "only showing top 20 rows\n",
      "\n"
     ]
    }
   ],
   "source": [
    "# Filter the data and create a new DataFrame or table to retrieve all the rows where the total_votes count is equal to or greater than 20\n",
    "# to pick reviews that are more likely to be helpful and to avoid having division by zero issues later on\n",
    "helpful_votes_df = vine_df.filter(\"total_votes>=20\")\n",
    "helpful_votes_df.show()"
   ]
  },
  {
   "cell_type": "code",
   "execution_count": 8,
   "metadata": {
    "colab": {
     "base_uri": "https://localhost:8080/"
    },
    "id": "MkqyCuNQY-9-",
    "outputId": "d55a9554-e9ce-478a-9be7-bae4eb836209"
   },
   "outputs": [
    {
     "name": "stdout",
     "output_type": "stream",
     "text": [
      "+--------------+-----------+-------------+-----------+----+-----------------+\n",
      "|     review_id|star_rating|helpful_votes|total_votes|vine|verified_purchase|\n",
      "+--------------+-----------+-------------+-----------+----+-----------------+\n",
      "| RL8D0KJ0J9L0O|          5|          152|        165|   N|                Y|\n",
      "|R1BEINAIQFBRJC|          5|           21|         23|   N|                Y|\n",
      "|R2L59KIJH302P9|          4|           26|         26|   N|                Y|\n",
      "| RR99CPG695T0I|          5|          215|        248|   N|                N|\n",
      "|R1XQNKKUPCMWVO|          5|           43|         44|   N|                Y|\n",
      "|R3JUXVCT1NSK2A|          3|           25|         26|   N|                Y|\n",
      "| RTCRZARYY4LXX|          5|           52|         54|   N|                Y|\n",
      "|R3OFB4P7Y8WR27|          1|           15|         26|   N|                Y|\n",
      "|R3MTAYGQM25N63|          4|           58|         59|   N|                Y|\n",
      "| RJNDSWES5ISZ7|          5|           78|         79|   N|                Y|\n",
      "+--------------+-----------+-------------+-----------+----+-----------------+\n",
      "only showing top 10 rows\n",
      "\n"
     ]
    }
   ],
   "source": [
    "# Filter the new helpful_votes_df and create a new DataFrame or table to retrieve all the rows where \n",
    "# the number of helpful_votes divided by total_votes is equal or greater than 50%\n",
    "\n",
    "helpful_reviews_df = helpful_votes_df.filter((helpful_votes_df.helpful_votes/helpful_votes_df.total_votes) >= 0.5)\n",
    "helpful_reviews_df.show(10)"
   ]
  },
  {
   "cell_type": "code",
   "execution_count": 9,
   "metadata": {
    "colab": {
     "base_uri": "https://localhost:8080/"
    },
    "id": "lzMmkdKmY--D",
    "outputId": "2bf51bd1-abcd-4a28-cef6-cb6908f0cada"
   },
   "outputs": [
    {
     "name": "stdout",
     "output_type": "stream",
     "text": [
      "+--------------+-----------+-------------+-----------+----+-----------------+\n",
      "|     review_id|star_rating|helpful_votes|total_votes|vine|verified_purchase|\n",
      "+--------------+-----------+-------------+-----------+----+-----------------+\n",
      "|R2BQOD1R0228FN|          3|           17|         26|   Y|                N|\n",
      "| RC31RUPFOHBHQ|          4|          102|        117|   Y|                N|\n",
      "| REN3N1WITLF1Y|          5|           33|         37|   Y|                N|\n",
      "| R71RZQ9UZVG47|          4|           38|         47|   Y|                N|\n",
      "|R38NMQBH88HLM6|          4|           18|         24|   Y|                N|\n",
      "|R33FGX9EE3QVR6|          4|           26|         26|   Y|                N|\n",
      "|R1KIOIK6WEYE59|          3|           19|         20|   Y|                N|\n",
      "|R25X9BMOB3FD0E|          4|           32|         37|   Y|                N|\n",
      "|R3VCKFCX2377Q2|          4|           95|        101|   Y|                N|\n",
      "|R1E0OUG63HMSM4|          3|           58|         61|   Y|                N|\n",
      "+--------------+-----------+-------------+-----------+----+-----------------+\n",
      "only showing top 10 rows\n",
      "\n"
     ]
    }
   ],
   "source": [
    "# Filter the helpful_reviews_df and create a new dataframe or table that retrieves\n",
    "# all the rows where a review was written as part of the Vine program (paid), vine == 'Y'\n",
    "paid_reviews_df = helpful_reviews_df.filter(\"vine == 'Y'\")\n",
    "paid_reviews_df.show(10)"
   ]
  },
  {
   "cell_type": "code",
   "execution_count": 10,
   "metadata": {
    "colab": {
     "base_uri": "https://localhost:8080/"
    },
    "id": "7jiUvs1aY--L",
    "outputId": "5300fc17-719d-43a5-a94d-018220798029"
   },
   "outputs": [
    {
     "name": "stdout",
     "output_type": "stream",
     "text": [
      "+--------------+-----------+-------------+-----------+----+-----------------+\n",
      "|     review_id|star_rating|helpful_votes|total_votes|vine|verified_purchase|\n",
      "+--------------+-----------+-------------+-----------+----+-----------------+\n",
      "| RL8D0KJ0J9L0O|          5|          152|        165|   N|                Y|\n",
      "|R1BEINAIQFBRJC|          5|           21|         23|   N|                Y|\n",
      "|R2L59KIJH302P9|          4|           26|         26|   N|                Y|\n",
      "| RR99CPG695T0I|          5|          215|        248|   N|                N|\n",
      "|R1XQNKKUPCMWVO|          5|           43|         44|   N|                Y|\n",
      "|R3JUXVCT1NSK2A|          3|           25|         26|   N|                Y|\n",
      "| RTCRZARYY4LXX|          5|           52|         54|   N|                Y|\n",
      "|R3OFB4P7Y8WR27|          1|           15|         26|   N|                Y|\n",
      "|R3MTAYGQM25N63|          4|           58|         59|   N|                Y|\n",
      "| RJNDSWES5ISZ7|          5|           78|         79|   N|                Y|\n",
      "+--------------+-----------+-------------+-----------+----+-----------------+\n",
      "only showing top 10 rows\n",
      "\n"
     ]
    }
   ],
   "source": [
    "# Filter the helpful_reviews_df and create a new dataframe or table that retrieves\n",
    "# all the rows where the review was not part of the Vine program (unpaid), vine == 'N'\n",
    "unpaid_reviews_df = helpful_reviews_df.filter(\"vine == 'N'\")\n",
    "unpaid_reviews_df.show(10)"
   ]
  },
  {
   "cell_type": "code",
   "execution_count": 11,
   "metadata": {
    "colab": {
     "base_uri": "https://localhost:8080/"
    },
    "id": "T2zgZ-aKY--Q",
    "outputId": "2e2d077e-82ac-40e9-c94e-b560fae044e0"
   },
   "outputs": [
    {
     "data": {
      "text/plain": [
       "18155"
      ]
     },
     "execution_count": 11,
     "metadata": {},
     "output_type": "execute_result"
    }
   ],
   "source": [
    "# Determine the total number of reviews, the number of 5-star reviews, and the percentage of 5-star reviews for the two types of review (paid vs unpaid).\n",
    "helpful_reviews_df.count()"
   ]
  },
  {
   "cell_type": "code",
   "execution_count": 12,
   "metadata": {
    "colab": {
     "base_uri": "https://localhost:8080/"
    },
    "id": "1m3yzn-LY--U",
    "outputId": "134c15a5-b17a-4830-fe15-917395719968"
   },
   "outputs": [
    {
     "data": {
      "text/plain": [
       "136"
      ]
     },
     "execution_count": 12,
     "metadata": {},
     "output_type": "execute_result"
    }
   ],
   "source": [
    "paid_reviews_count = paid_reviews_df.count()\n",
    "paid_reviews_count"
   ]
  },
  {
   "cell_type": "code",
   "execution_count": 13,
   "metadata": {
    "colab": {
     "base_uri": "https://localhost:8080/"
    },
    "id": "KbXri15fY--Z",
    "outputId": "effa004c-4386-47d5-9a94-61e3ae88d926"
   },
   "outputs": [
    {
     "data": {
      "text/plain": [
       "18019"
      ]
     },
     "execution_count": 13,
     "metadata": {},
     "output_type": "execute_result"
    }
   ],
   "source": [
    "unpaid_reviews_count = unpaid_reviews_df.count()\n",
    "unpaid_reviews_count"
   ]
  },
  {
   "cell_type": "code",
   "execution_count": 14,
   "metadata": {
    "colab": {
     "base_uri": "https://localhost:8080/"
    },
    "id": "XdQknSHLY--e",
    "outputId": "35e7d2ea-0c7c-4c53-85fa-c23b553e13ab"
   },
   "outputs": [
    {
     "data": {
      "text/plain": [
       "74"
      ]
     },
     "execution_count": 14,
     "metadata": {},
     "output_type": "execute_result"
    }
   ],
   "source": [
    "paid_five_star_reviews = paid_reviews_df.filter(paid_reviews_df.star_rating==5).count()\n",
    "paid_five_star_reviews"
   ]
  },
  {
   "cell_type": "code",
   "execution_count": 15,
   "metadata": {
    "colab": {
     "base_uri": "https://localhost:8080/"
    },
    "id": "Exuo6ebUsCqW",
    "outputId": "7400ceb2-fa94-49b3-c47a-50880edbab42"
   },
   "outputs": [
    {
     "data": {
      "text/plain": [
       "8482"
      ]
     },
     "execution_count": 15,
     "metadata": {},
     "output_type": "execute_result"
    }
   ],
   "source": [
    "unpaid_five_star_reviews = unpaid_reviews_df.filter(unpaid_reviews_df.star_rating==5).count()\n",
    "unpaid_five_star_reviews"
   ]
  },
  {
   "cell_type": "code",
   "execution_count": 16,
   "metadata": {
    "colab": {
     "base_uri": "https://localhost:8080/"
    },
    "id": "3utPgV1n6ZLy",
    "outputId": "b16faf95-8b8b-4470-efeb-8e76816089a9"
   },
   "outputs": [
    {
     "data": {
      "text/plain": [
       "54.41176470588235"
      ]
     },
     "execution_count": 16,
     "metadata": {},
     "output_type": "execute_result"
    }
   ],
   "source": [
    "paid_five_star_percentage = (paid_five_star_reviews/paid_reviews_count) * 100\n",
    "paid_five_star_percentage"
   ]
  },
  {
   "cell_type": "code",
   "execution_count": 17,
   "metadata": {
    "colab": {
     "base_uri": "https://localhost:8080/"
    },
    "id": "cuHfk5yb6ZeN",
    "outputId": "55e88af4-c1bf-4726-b66b-25fd8cff22bb"
   },
   "outputs": [
    {
     "data": {
      "text/plain": [
       "47.072534546867196"
      ]
     },
     "execution_count": 17,
     "metadata": {},
     "output_type": "execute_result"
    }
   ],
   "source": [
    "unpaid_five_star_percentage = (unpaid_five_star_reviews/unpaid_reviews_count) * 100\n",
    "unpaid_five_star_percentage"
   ]
  }
 ],
 "metadata": {
  "colab": {
   "collapsed_sections": [],
   "name": "View_Review_Analysis.ipynb",
   "provenance": []
  },
  "kernelspec": {
   "display_name": "Python 3",
   "language": "python",
   "name": "python3"
  },
  "language_info": {
   "codemirror_mode": {
    "name": "ipython",
    "version": 3
   },
   "file_extension": ".py",
   "mimetype": "text/x-python",
   "name": "python",
   "nbconvert_exporter": "python",
   "pygments_lexer": "ipython3",
   "version": "3.7.9"
  },
  "nteract": {
   "version": "0.12.3"
  }
 },
 "nbformat": 4,
 "nbformat_minor": 1
}
